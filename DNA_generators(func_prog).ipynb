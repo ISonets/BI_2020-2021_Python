{
 "cells": [
  {
   "cell_type": "code",
   "execution_count": 27,
   "metadata": {},
   "outputs": [
    {
     "name": "stdout",
     "output_type": "stream",
     "text": [
      "['AAA', 'AAC', 'AAT', 'AAG', 'ACA', 'ACC', 'ACT', 'ACG', 'ATA', 'ATC', 'ATT', 'ATG', 'AGA', 'AGC', 'AGT', 'AGG', 'CAA', 'CAC', 'CAT', 'CAG', 'CCA', 'CCC', 'CCT', 'CCG', 'CTA', 'CTC', 'CTT', 'CTG', 'CGA', 'CGC', 'CGT', 'CGG', 'TAA', 'TAC', 'TAT', 'TAG', 'TCA', 'TCC', 'TCT', 'TCG', 'TTA', 'TTC', 'TTT', 'TTG', 'TGA', 'TGC', 'TGT', 'TGG', 'GAA', 'GAC', 'GAT', 'GAG', 'GCA', 'GCC', 'GCT', 'GCG', 'GTA', 'GTC', 'GTT', 'GTG', 'GGA', 'GGC', 'GGT', 'GGG']\n"
     ]
    }
   ],
   "source": [
    "def DNAgen(size, seq, nucl, res):\n",
    "    \n",
    "    if len(seq) == size:\n",
    "        res.append(''.join(seq))\n",
    "        return\n",
    "    for element in nucl:\n",
    "        all_possible_DNAseqs(size, list(seq) + [element], nucl, res)\n",
    "\n",
    "\n",
    "all_seqs = []\n",
    "seq=[]\n",
    "nucl=['A', 'C', 'T', 'G']\n",
    "size=3\n",
    "all_possible_DNAseqs(size, [], nucl, all_seqs)\n",
    "print(all_seqs)\n",
    "#  nope, that didn't work as it should be: no support for len = 1...n"
   ]
  },
  {
   "cell_type": "code",
   "execution_count": 38,
   "metadata": {},
   "outputs": [
    {
     "name": "stdout",
     "output_type": "stream",
     "text": [
      "[('A', 'T', 'G'), ('A', 'T', 'C'), ('A', 'G', 'C'), ('T', 'G', 'C')]\n"
     ]
    }
   ],
   "source": [
    "from itertools import combinations \n",
    "all_seqs = [x for x in combinations(['A','T','G','C'], 3) ]\n",
    "print(res)\n",
    "# impossible to do for length > 4, permutations won't work also, should use comb_w_replacement"
   ]
  },
  {
   "cell_type": "code",
   "execution_count": 58,
   "metadata": {},
   "outputs": [
    {
     "name": "stdout",
     "output_type": "stream",
     "text": [
      "['A', 'T', 'G', 'C', 'AA', 'AT', 'AG', 'AC', 'TT', 'TG', 'TC', 'GG', 'GC', 'CC', 'AAA', 'AAT', 'AAG', 'AAC', 'ATT', 'ATG', 'ATC', 'AGG', 'AGC', 'ACC', 'TTT', 'TTG', 'TTC', 'TGG', 'TGC', 'TCC', 'GGG', 'GGC', 'GCC', 'CCC', 'AAAA', 'AAAT', 'AAAG', 'AAAC', 'AATT', 'AATG', 'AATC', 'AAGG', 'AAGC', 'AACC', 'ATTT', 'ATTG', 'ATTC', 'ATGG', 'ATGC', 'ATCC', 'AGGG', 'AGGC', 'AGCC', 'ACCC', 'TTTT', 'TTTG', 'TTTC', 'TTGG', 'TTGC', 'TTCC', 'TGGG', 'TGGC', 'TGCC', 'TCCC', 'GGGG', 'GGGC', 'GGCC', 'GCCC', 'CCCC', 'AAAAA', 'AAAAT', 'AAAAG', 'AAAAC', 'AAATT', 'AAATG', 'AAATC', 'AAAGG', 'AAAGC', 'AAACC', 'AATTT', 'AATTG', 'AATTC', 'AATGG', 'AATGC', 'AATCC', 'AAGGG', 'AAGGC', 'AAGCC', 'AACCC', 'ATTTT', 'ATTTG', 'ATTTC', 'ATTGG', 'ATTGC', 'ATTCC', 'ATGGG', 'ATGGC', 'ATGCC', 'ATCCC', 'AGGGG', 'AGGGC', 'AGGCC', 'AGCCC', 'ACCCC', 'TTTTT', 'TTTTG', 'TTTTC', 'TTTGG', 'TTTGC', 'TTTCC', 'TTGGG', 'TTGGC', 'TTGCC', 'TTCCC', 'TGGGG', 'TGGGC', 'TGGCC', 'TGCCC', 'TCCCC', 'GGGGG', 'GGGGC', 'GGGCC', 'GGCCC', 'GCCCC', 'CCCCC', 'AAAAAA', 'AAAAAT', 'AAAAAG', 'AAAAAC', 'AAAATT', 'AAAATG', 'AAAATC', 'AAAAGG', 'AAAAGC', 'AAAACC', 'AAATTT', 'AAATTG', 'AAATTC', 'AAATGG', 'AAATGC', 'AAATCC', 'AAAGGG', 'AAAGGC', 'AAAGCC', 'AAACCC', 'AATTTT', 'AATTTG', 'AATTTC', 'AATTGG', 'AATTGC', 'AATTCC', 'AATGGG', 'AATGGC', 'AATGCC', 'AATCCC', 'AAGGGG', 'AAGGGC', 'AAGGCC', 'AAGCCC', 'AACCCC', 'ATTTTT', 'ATTTTG', 'ATTTTC', 'ATTTGG', 'ATTTGC', 'ATTTCC', 'ATTGGG', 'ATTGGC', 'ATTGCC', 'ATTCCC', 'ATGGGG', 'ATGGGC', 'ATGGCC', 'ATGCCC', 'ATCCCC', 'AGGGGG', 'AGGGGC', 'AGGGCC', 'AGGCCC', 'AGCCCC', 'ACCCCC', 'TTTTTT', 'TTTTTG', 'TTTTTC', 'TTTTGG', 'TTTTGC', 'TTTTCC', 'TTTGGG', 'TTTGGC', 'TTTGCC', 'TTTCCC', 'TTGGGG', 'TTGGGC', 'TTGGCC', 'TTGCCC', 'TTCCCC', 'TGGGGG', 'TGGGGC', 'TGGGCC', 'TGGCCC', 'TGCCCC', 'TCCCCC', 'GGGGGG', 'GGGGGC', 'GGGGCC', 'GGGCCC', 'GGCCCC', 'GCCCCC', 'CCCCCC', 'AAAAAAA', 'AAAAAAT', 'AAAAAAG', 'AAAAAAC', 'AAAAATT', 'AAAAATG', 'AAAAATC', 'AAAAAGG', 'AAAAAGC', 'AAAAACC', 'AAAATTT', 'AAAATTG', 'AAAATTC', 'AAAATGG', 'AAAATGC', 'AAAATCC', 'AAAAGGG', 'AAAAGGC', 'AAAAGCC', 'AAAACCC', 'AAATTTT', 'AAATTTG', 'AAATTTC', 'AAATTGG', 'AAATTGC', 'AAATTCC', 'AAATGGG', 'AAATGGC', 'AAATGCC', 'AAATCCC', 'AAAGGGG', 'AAAGGGC', 'AAAGGCC', 'AAAGCCC', 'AAACCCC', 'AATTTTT', 'AATTTTG', 'AATTTTC', 'AATTTGG', 'AATTTGC', 'AATTTCC', 'AATTGGG', 'AATTGGC', 'AATTGCC', 'AATTCCC', 'AATGGGG', 'AATGGGC', 'AATGGCC', 'AATGCCC', 'AATCCCC', 'AAGGGGG', 'AAGGGGC', 'AAGGGCC', 'AAGGCCC', 'AAGCCCC', 'AACCCCC', 'ATTTTTT', 'ATTTTTG', 'ATTTTTC', 'ATTTTGG', 'ATTTTGC', 'ATTTTCC', 'ATTTGGG', 'ATTTGGC', 'ATTTGCC', 'ATTTCCC', 'ATTGGGG', 'ATTGGGC', 'ATTGGCC', 'ATTGCCC', 'ATTCCCC', 'ATGGGGG', 'ATGGGGC', 'ATGGGCC', 'ATGGCCC', 'ATGCCCC', 'ATCCCCC', 'AGGGGGG', 'AGGGGGC', 'AGGGGCC', 'AGGGCCC', 'AGGCCCC', 'AGCCCCC', 'ACCCCCC', 'TTTTTTT', 'TTTTTTG', 'TTTTTTC', 'TTTTTGG', 'TTTTTGC', 'TTTTTCC', 'TTTTGGG', 'TTTTGGC', 'TTTTGCC', 'TTTTCCC', 'TTTGGGG', 'TTTGGGC', 'TTTGGCC', 'TTTGCCC', 'TTTCCCC', 'TTGGGGG', 'TTGGGGC', 'TTGGGCC', 'TTGGCCC', 'TTGCCCC', 'TTCCCCC', 'TGGGGGG', 'TGGGGGC', 'TGGGGCC', 'TGGGCCC', 'TGGCCCC', 'TGCCCCC', 'TCCCCCC', 'GGGGGGG', 'GGGGGGC', 'GGGGGCC', 'GGGGCCC', 'GGGCCCC', 'GGCCCCC', 'GCCCCCC', 'CCCCCCC', 'AAAAAAAA', 'AAAAAAAT', 'AAAAAAAG', 'AAAAAAAC', 'AAAAAATT', 'AAAAAATG', 'AAAAAATC', 'AAAAAAGG', 'AAAAAAGC', 'AAAAAACC', 'AAAAATTT', 'AAAAATTG', 'AAAAATTC', 'AAAAATGG', 'AAAAATGC', 'AAAAATCC', 'AAAAAGGG', 'AAAAAGGC', 'AAAAAGCC', 'AAAAACCC', 'AAAATTTT', 'AAAATTTG', 'AAAATTTC', 'AAAATTGG', 'AAAATTGC', 'AAAATTCC', 'AAAATGGG', 'AAAATGGC', 'AAAATGCC', 'AAAATCCC', 'AAAAGGGG', 'AAAAGGGC', 'AAAAGGCC', 'AAAAGCCC', 'AAAACCCC', 'AAATTTTT', 'AAATTTTG', 'AAATTTTC', 'AAATTTGG', 'AAATTTGC', 'AAATTTCC', 'AAATTGGG', 'AAATTGGC', 'AAATTGCC', 'AAATTCCC', 'AAATGGGG', 'AAATGGGC', 'AAATGGCC', 'AAATGCCC', 'AAATCCCC', 'AAAGGGGG', 'AAAGGGGC', 'AAAGGGCC', 'AAAGGCCC', 'AAAGCCCC', 'AAACCCCC', 'AATTTTTT', 'AATTTTTG', 'AATTTTTC', 'AATTTTGG', 'AATTTTGC', 'AATTTTCC', 'AATTTGGG', 'AATTTGGC', 'AATTTGCC', 'AATTTCCC', 'AATTGGGG', 'AATTGGGC', 'AATTGGCC', 'AATTGCCC', 'AATTCCCC', 'AATGGGGG', 'AATGGGGC', 'AATGGGCC', 'AATGGCCC', 'AATGCCCC', 'AATCCCCC', 'AAGGGGGG', 'AAGGGGGC', 'AAGGGGCC', 'AAGGGCCC', 'AAGGCCCC', 'AAGCCCCC', 'AACCCCCC', 'ATTTTTTT', 'ATTTTTTG', 'ATTTTTTC', 'ATTTTTGG', 'ATTTTTGC', 'ATTTTTCC', 'ATTTTGGG', 'ATTTTGGC', 'ATTTTGCC', 'ATTTTCCC', 'ATTTGGGG', 'ATTTGGGC', 'ATTTGGCC', 'ATTTGCCC', 'ATTTCCCC', 'ATTGGGGG', 'ATTGGGGC', 'ATTGGGCC', 'ATTGGCCC', 'ATTGCCCC', 'ATTCCCCC', 'ATGGGGGG', 'ATGGGGGC', 'ATGGGGCC', 'ATGGGCCC', 'ATGGCCCC', 'ATGCCCCC', 'ATCCCCCC', 'AGGGGGGG', 'AGGGGGGC', 'AGGGGGCC', 'AGGGGCCC', 'AGGGCCCC', 'AGGCCCCC', 'AGCCCCCC', 'ACCCCCCC', 'TTTTTTTT', 'TTTTTTTG', 'TTTTTTTC', 'TTTTTTGG', 'TTTTTTGC', 'TTTTTTCC', 'TTTTTGGG', 'TTTTTGGC', 'TTTTTGCC', 'TTTTTCCC', 'TTTTGGGG', 'TTTTGGGC', 'TTTTGGCC', 'TTTTGCCC', 'TTTTCCCC', 'TTTGGGGG', 'TTTGGGGC', 'TTTGGGCC', 'TTTGGCCC', 'TTTGCCCC', 'TTTCCCCC', 'TTGGGGGG', 'TTGGGGGC', 'TTGGGGCC', 'TTGGGCCC', 'TTGGCCCC', 'TTGCCCCC', 'TTCCCCCC', 'TGGGGGGG', 'TGGGGGGC', 'TGGGGGCC', 'TGGGGCCC', 'TGGGCCCC', 'TGGCCCCC', 'TGCCCCCC', 'TCCCCCCC', 'GGGGGGGG', 'GGGGGGGC', 'GGGGGGCC', 'GGGGGCCC', 'GGGGCCCC', 'GGGCCCCC', 'GGCCCCCC', 'GCCCCCCC', 'CCCCCCCC']\n"
     ]
    }
   ],
   "source": [
    "import itertools as iter\n",
    "\n",
    "def DNA_genv4(n):\n",
    "    all_possible_seqs = []  # for answer\n",
    "    i = 1\n",
    "    while i < (n + 1):  # for len = 1...n\n",
    "        seqs_of_length_i = list(iter.combinations_with_replacement(['A', 'T', 'G', 'C'], i))\n",
    "        all_possible_seqs.append(list(''.join(seq) for seq in seqs_of_length_i))\n",
    "        i += 1\n",
    "    return iter.chain(*all_possible_seqs)\n",
    "print(list(DNA_genv4(8)))\n"
   ]
  },
  {
   "cell_type": "code",
   "execution_count": 57,
   "metadata": {},
   "outputs": [
    {
     "ename": "TypeError",
     "evalue": "DNA_translator() missing 1 required positional argument: 'path'",
     "output_type": "error",
     "traceback": [
      "\u001b[0;31m---------------------------------------------------------------------------\u001b[0m",
      "\u001b[0;31mTypeError\u001b[0m                                 Traceback (most recent call last)",
      "\u001b[0;32m<ipython-input-57-2b71990cc68e>\u001b[0m in \u001b[0;36m<module>\u001b[0;34m\u001b[0m\n\u001b[1;32m     11\u001b[0m     \u001b[0;32mfor\u001b[0m \u001b[0mseq\u001b[0m \u001b[0;32min\u001b[0m \u001b[0mfasta_file\u001b[0m\u001b[0;34m:\u001b[0m\u001b[0;34m\u001b[0m\u001b[0;34m\u001b[0m\u001b[0m\n\u001b[1;32m     12\u001b[0m         \u001b[0;32myield\u001b[0m \u001b[0mseq\u001b[0m\u001b[0;34m.\u001b[0m\u001b[0mtranslate\u001b[0m\u001b[0;34m(\u001b[0m\u001b[0mtable\u001b[0m\u001b[0;34m=\u001b[0m\u001b[0mcodon_table\u001b[0m\u001b[0;34m)\u001b[0m\u001b[0;34m.\u001b[0m\u001b[0mseq\u001b[0m  \u001b[0;31m# to_stop = True if you want to translate up to 1st stop codon\u001b[0m\u001b[0;34m\u001b[0m\u001b[0;34m\u001b[0m\u001b[0m\n\u001b[0;32m---> 13\u001b[0;31m \u001b[0myour_fasta\u001b[0m \u001b[0;34m=\u001b[0m \u001b[0mDNA_translator\u001b[0m\u001b[0;34m(\u001b[0m\u001b[0;34m)\u001b[0m  \u001b[0;31m# insert your fasta here\u001b[0m\u001b[0;34m\u001b[0m\u001b[0;34m\u001b[0m\u001b[0m\n\u001b[0m\u001b[1;32m     14\u001b[0m \u001b[0;34m\u001b[0m\u001b[0m\n\u001b[1;32m     15\u001b[0m \u001b[0mprint\u001b[0m\u001b[0;34m(\u001b[0m\u001b[0mnext\u001b[0m\u001b[0;34m(\u001b[0m\u001b[0myour_fasta\u001b[0m\u001b[0;34m)\u001b[0m\u001b[0;34m)\u001b[0m\u001b[0;34m\u001b[0m\u001b[0;34m\u001b[0m\u001b[0m\n",
      "\u001b[0;31mTypeError\u001b[0m: DNA_translator() missing 1 required positional argument: 'path'"
     ]
    }
   ],
   "source": [
    "# praise the Biopython!\n",
    "# list of NCBI translation tables:\n",
    "# https://www.ncbi.nlm.nih.gov/Taxonomy/Utils/wprintgc.cgi\n",
    "# more options here: http://biopython.org/DIST/docs/tutorial/Tutorial.html\n",
    "# see Ch. 3.8/3.9\n",
    "\n",
    "from Bio import SeqIO\n",
    "\n",
    "def DNA_translator(path, codon_table='Standard'):\n",
    "    fasta_file = SeqIO.parse(path, 'fasta')  # autopasing for smol brainz\n",
    "    for seq in fasta_file:\n",
    "        yield seq.translate(table=codon_table).seq  # to_stop = True if you want to translate up to 1st stop codon\n",
    "your_fasta = DNA_translator()  # insert your fasta here\n",
    "\n",
    "print(next(your_fasta))\n",
    "\n",
    "# The difference is that while a return statement terminates a function entirely,\n",
    "# yield statement pauses the function saving all its states and later continues from there on successive calls."
   ]
  }
 ],
 "metadata": {
  "kernelspec": {
   "display_name": "Python 3",
   "language": "python",
   "name": "python3"
  },
  "language_info": {
   "codemirror_mode": {
    "name": "ipython",
    "version": 3
   },
   "file_extension": ".py",
   "mimetype": "text/x-python",
   "name": "python",
   "nbconvert_exporter": "python",
   "pygments_lexer": "ipython3",
   "version": "3.8.5"
  }
 },
 "nbformat": 4,
 "nbformat_minor": 4
}
