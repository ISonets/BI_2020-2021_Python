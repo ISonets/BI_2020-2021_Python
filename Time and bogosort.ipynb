{
 "cells": [
  {
   "cell_type": "code",
   "execution_count": 3,
   "id": "cc43e939",
   "metadata": {},
   "outputs": [],
   "source": [
    "# uniform distribution time estimation\n",
    "# importing libraries\n",
    "import random\n",
    "import pandas as pd\n",
    "import numpy as np\n",
    "import time\n",
    "import matplotlib.pyplot as plt"
   ]
  },
  {
   "cell_type": "code",
   "execution_count": 4,
   "id": "2c037a36",
   "metadata": {},
   "outputs": [],
   "source": [
    "# simple function to measure time\n",
    "def time_estimator(lib, k):\n",
    "    \"\"\"Time estimator for generators of k numbers made by two libraries: random or numpy\"\"\"\n",
    "    time_points = []  # save multiple points for plot\n",
    "    for i in range(k):\n",
    "        time_begin = time.perf_counter()\n",
    "        for _ in range(0, i):\n",
    "            if lib == 'random':\n",
    "                random.random()\n",
    "            elif lib == 'np':\n",
    "                np.random.random()\n",
    "            else:\n",
    "                raise ValueError(\"Error: argument 'lib' can be 'random' or 'np'\")\n",
    "        time_end = time.perf_counter()\n",
    "        time_points.append(time_end - time_begin)\n",
    "    return time_points"
   ]
  },
  {
   "cell_type": "code",
   "execution_count": 8,
   "id": "31f86d70",
   "metadata": {},
   "outputs": [
    {
     "data": {
      "image/png": "[encoded data removed]",
      "text/plain": [
       "<Figure size 432x288 with 1 Axes>"
      ]
     },
     "metadata": {
      "needs_background": "light"
     },
     "output_type": "display_data"
    }
   ],
   "source": [
    "k = 10000\n",
    "random_total_time = time_estimator('np', k)\n",
    "np_total_time = time_estimator('random', k)\n",
    "\n",
    "fig,ax = plt.subplots()\n",
    "plt.xlabel('№ of numbers generated')\n",
    "plt.ylabel('Time, s')\n",
    "plt.title('Time required to generate n numbers')\n",
    "ax.plot(range(k), random_total_time, label = 'random')\n",
    "ax.plot(range(k), np_total_time, label = 'numpy')\n",
    "leg = ax.legend()\n",
    "plt.show()\n",
    "# numpy is waaaaay faster"
   ]
  },
  {
   "cell_type": "code",
   "execution_count": 17,
   "id": "c87e0c10-3bb7-400b-bec3-436a1c9ecc3b",
   "metadata": {},
   "outputs": [],
   "source": [
    "# bogosort code taken from here: https://www.geeksforgeeks.org/python-program-for-bogosort-or-permutation-sort/\n",
    "\n",
    "def bogosort(lst):\n",
    "    while not is_sorted(lst):\n",
    "        random.shuffle(lst)\n",
    "    return lst\n",
    "\n",
    "# to check if array is sorted\n",
    "def is_sorted(a):\n",
    "    n = len(a)\n",
    "    for i in range(0, n-1):\n",
    "        if (a[i] > a[i+1] ):\n",
    "            return False\n",
    "    return True"
   ]
  },
  {
   "cell_type": "code",
   "execution_count": 49,
   "id": "68e311b3-c9ef-4810-877c-bef41aa83b80",
   "metadata": {},
   "outputs": [],
   "source": [
    "def bs_time_estimator(n):  # calculate mean and SD for list size = [1...n] which is bogosorted\n",
    "    mean_points = []\n",
    "    std_points = []\n",
    "    for i in range(1, n + 1):\n",
    "        curr_list = list(range(1, i + 1))\n",
    "        time_points = []\n",
    "        random.shuffle(curr_list)  # mixing current list\n",
    "        for _ in range(5):  # counting time for each list, same ideas as for random\n",
    "            time_begin = time.perf_counter()\n",
    "            bogosort(curr_list)  # sorting here\n",
    "            time_end = time.perf_counter()\n",
    "            time_points.append(time_end - time_begin)\n",
    "        mean_time = np.mean(time_points)\n",
    "        mean_points.append(mean_time)\n",
    "        std_time = np.std(time_points)\n",
    "        std_points.append(std_time)\n",
    "    return mean_points, std_points"
   ]
  },
  {
   "cell_type": "code",
   "execution_count": 48,
   "id": "9b8a9a0c-a144-49a7-b6e9-4c94eb35f168",
   "metadata": {},
   "outputs": [
    {
     "name": "stdout",
     "output_type": "stream",
     "text": [
      "[1]\n",
      "[1, 2]\n",
      "[1, 2, 3]\n",
      "[1, 2, 3, 4]\n",
      "[1, 2, 3, 4, 5]\n",
      "[1, 2, 3, 4, 5, 6]\n",
      "[1, 2, 3, 4, 5, 6, 7]\n",
      "[1, 2, 3, 4, 5, 6, 7, 8]\n",
      "[1, 2, 3, 4, 5, 6, 7, 8, 9]\n",
      "[1, 2, 3, 4, 5, 6, 7, 8, 9, 10]\n"
     ]
    }
   ],
   "source": [
    "for i in range(1, n + 1):  # from 1 to n\n",
    "    curr_list = list(range(1, i + 1))\n",
    "    print(curr_list)"
   ]
  },
  {
   "cell_type": "code",
   "execution_count": null,
   "id": "f5663b5a-f826-4e72-9fc8-a10c0b352f69",
   "metadata": {},
   "outputs": [],
   "source": [
    "n = 100\n",
    "mean_points, std_points = bs_time_estimator(n)"
   ]
  },
  {
   "cell_type": "code",
   "execution_count": 51,
   "id": "aa446f8c-1d2b-43c0-9fc9-a4bf2d74bdc7",
   "metadata": {},
   "outputs": [
    {
     "data": {
      "image/png": "[encoded data removed]",
      "text/plain": [
       "<Figure size 432x288 with 1 Axes>"
      ]
     },
     "metadata": {
      "needs_background": "light"
     },
     "output_type": "display_data"
    }
   ],
   "source": [
    "fig,ax = plt.subplots()\n",
    "plt.xlabel('List size')\n",
    "plt.ylabel('Sorting time,s')\n",
    "plt.title('Mean bogosort time + stdev')\n",
    "ax.errorbar(range(1, n + 1), mean_points, yerr=std_points, fmt='-o')\n",
    "plt.show()"
   ]
  }
 ],
 "metadata": {
  "kernelspec": {
   "display_name": "Python 3",
   "language": "python",
   "name": "python3"
  },
  "language_info": {
   "codemirror_mode": {
    "name": "ipython",
    "version": 3
   },
   "file_extension": ".py",
   "mimetype": "text/x-python",
   "name": "python",
   "nbconvert_exporter": "python",
   "pygments_lexer": "ipython3",
   "version": "3.9.1"
  }
 },
 "nbformat": 4,
 "nbformat_minor": 5
}
